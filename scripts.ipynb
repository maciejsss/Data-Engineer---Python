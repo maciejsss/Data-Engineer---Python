{
 "cells": [
  {
   "cell_type": "code",
   "execution_count": 1,
   "metadata": {},
   "outputs": [],
   "source": [
    "import pandas as pd\n",
    "import numpy as np"
   ]
  },
  {
   "cell_type": "code",
   "execution_count": 2,
   "metadata": {},
   "outputs": [
    {
     "name": "stdout",
     "output_type": "stream",
     "text": [
      "35.988\n"
     ]
    }
   ],
   "source": [
    "sale_price = 29.99\n",
    "\n",
    "# Define a lambda function called add_tax\n",
    "add_tax = lambda x: x * 1.2\n",
    "\n",
    "# Call the lambda function\n",
    "print(add_tax(sale_price))"
   ]
  },
  {
   "cell_type": "code",
   "execution_count": 3,
   "metadata": {},
   "outputs": [
    {
     "name": "stdout",
     "output_type": "stream",
     "text": [
      "35.988\n"
     ]
    }
   ],
   "source": [
    "sale_price = 29.99\n",
    "\n",
    "# Call a lambda function adding 20% to sale_price\n",
    "print((lambda x: x * 1.2)(sale_price))"
   ]
  },
  {
   "cell_type": "code",
   "execution_count": 9,
   "metadata": {},
   "outputs": [
    {
     "name": "stdout",
     "output_type": "stream",
     "text": [
      "[35.988, 11.94, 17.4, 47.699999999999996, 72.0]\n"
     ]
    }
   ],
   "source": [
    "sales_prices = [29.99, 9.95, 14.50, 39.75, 60.00]\n",
    "\n",
    "# Create add_taxes to add 20% to each item in sales_prices\n",
    "add_taxes = map(lambda x: x * 1.2, sales_prices)\n",
    "\n",
    "# Use add_taxes to return a new list with updated values\n",
    "print(list(add_taxes))"
   ]
  },
  {
   "cell_type": "code",
   "execution_count": 11,
   "metadata": {},
   "outputs": [
    {
     "name": "stdout",
     "output_type": "stream",
     "text": [
      "[125.97, 84.32, 99.78, 154.21, 78.5, 83.67, 111.13]\n"
     ]
    }
   ],
   "source": [
    "# Define the sales list\n",
    "sales = [125.97, 84.32, 99.78, 154.21, 78.50, 83.67, 111.13]\n",
    "\n",
    "# Print the sales list\n",
    "print(sales)"
   ]
  },
  {
   "cell_type": "code",
   "execution_count": null,
   "metadata": {},
   "outputs": [
    {
     "name": "stdout",
     "output_type": "stream",
     "text": [
      "user_name_187\n"
     ]
    }
   ],
   "source": [
    "def snake_case(text):\n",
    "  # Attempt to clean the text\n",
    "  try:\n",
    "    # Swap spaces for underscores\n",
    "    clean_text = text.replace(\" \", \"_\")\n",
    "    clean_text = clean_text.lower()\n",
    "  # Run this code if an error occurs\n",
    "  except:\n",
    "    print(\"The snake_case() function expects a string as an argument, please check the data type provided.\")\n",
    "    \n",
    "snake_case(\"User Name 187\")"
   ]
  },
  {
   "cell_type": "code",
   "execution_count": 18,
   "metadata": {},
   "outputs": [],
   "source": [
    "def snake_case(text):\n",
    "  # Check the data type\n",
    "  if type(text) == str:\n",
    "    clean_text = text.replace(\" \", \"_\")\n",
    "    clean_text = clean_text.lower()\n",
    "  else:\n",
    "    # Return a TypeError error if the wrong data type was used\n",
    "    raise(\"The snake_case() function expects a string as an argument, please check the data type provided.\")\n",
    "    \n",
    "snake_case(\"User Name 187\")"
   ]
  },
  {
   "cell_type": "code",
   "execution_count": 20,
   "metadata": {},
   "outputs": [
    {
     "data": {
      "text/plain": [
       "['.git', 'scripts.ipynb']"
      ]
     },
     "execution_count": 20,
     "metadata": {},
     "output_type": "execute_result"
    }
   ],
   "source": [
    "import os\n",
    "wd = os.getcwd()\n",
    "os.listdir(wd)"
   ]
  },
  {
   "cell_type": "code",
   "execution_count": null,
   "metadata": {},
   "outputs": [],
   "source": [
    "# Import packages\n",
    "from sqlalchemy import create_engine\n",
    "import pandas as pd\n",
    "\n",
    "# Create engine: engine\n",
    "engine = create_engine('sqlite:///Chinook.sqlite')\n",
    "\n",
    "# Open engine connection: con\n",
    "con = engine.connect()\n",
    "\n",
    "# Perform query: rs\n",
    "rs = con.execute('SELECT * FROM Album')\n",
    "\n",
    "# Save results of the query to DataFrame: df\n",
    "df = pd.DataFrame(rs)\n",
    "\n",
    "# Close connection\n",
    "con.close()\n",
    "\n",
    "# Print head of DataFrame df\n",
    "print(df.head())\n"
   ]
  },
  {
   "cell_type": "code",
   "execution_count": null,
   "metadata": {},
   "outputs": [],
   "source": [
    "# Open engine in context manager\n",
    "# Perform query and save results to DataFrame: df\n",
    "with engine.connect() as con:\n",
    "    rs = con.execute(\"SELECT LastName, Title FROM Employee\")\n",
    "    df = pd.DataFrame(rs.fetchmany(size=3))\n",
    "    df.columns = rs.keys()\n",
    "\n",
    "# Print the length of the DataFrame df\n",
    "print(len(df))\n",
    "\n",
    "# Print the head of the DataFrame df\n",
    "print(df.head())"
   ]
  },
  {
   "cell_type": "code",
   "execution_count": null,
   "metadata": {},
   "outputs": [],
   "source": [
    "# Open engine in context manager\n",
    "# Perform query and save results to DataFrame: df\n",
    "with engine.connect() as con:\n",
    "    rs = con.execute(\"SELECT * FROM Employee WHERE EmployeeId >= 6\")\n",
    "    df = pd.DataFrame(rs.fetchall())\n",
    "    df.columns = rs.keys()\n",
    "\n",
    "# Print the head of the DataFrame df\n",
    "print(df.head())"
   ]
  },
  {
   "cell_type": "code",
   "execution_count": null,
   "metadata": {},
   "outputs": [],
   "source": [
    "# Create engine: engine\n",
    "engine = create_engine('sqlite:///Chinook.sqlite')\n",
    "\n",
    "# Open engine in context manager\n",
    "with engine.connect() as con:\n",
    "    rs = con.execute(\"SELECT * FROM Employee ORDER BY BirthDate\")\n",
    "    df = pd.DataFrame(rs.fetchall())\n",
    "\n",
    "    # Set the DataFrame's column names\n",
    "    df.columns = rs.keys()\n",
    "\n",
    "# Print head of DataFrame\n",
    "print(df.head())\n"
   ]
  },
  {
   "cell_type": "code",
   "execution_count": null,
   "metadata": {},
   "outputs": [],
   "source": [
    "# Import packages\n",
    "from sqlalchemy import create_engine\n",
    "import pandas as pd\n",
    "\n",
    "# Create engine: engine\n",
    "engine = create_engine('sqlite:///Chinook.sqlite')\n",
    "\n",
    "# Execute query and store records in DataFrame: df\n",
    "df = pd.read_sql_query(\n",
    "    \"SELECT * FROM Employee WHERE EmployeeId >= 6 ORDER BY BirthDate\",\n",
    "    engine\n",
    ")\n",
    "\n",
    "# Print head of DataFrame\n",
    "print(df.head())"
   ]
  },
  {
   "cell_type": "code",
   "execution_count": 29,
   "metadata": {},
   "outputs": [],
   "source": [
    "import pyodbc"
   ]
  },
  {
   "cell_type": "code",
   "execution_count": null,
   "metadata": {},
   "outputs": [],
   "source": [
    "DB = {'servername': 'localhost\\SQLDEV',\n",
    "      'database': 'AdventureWorks2016'}\n",
    "# create the connection\n",
    "conn = pyodbc.connect('DRIVER={SQL Server};SERVER=' + DB['servername'] + ';DATABASE=' + DB['database'] + ';Trusted_Connection=yes')\n",
    "df = pd.read_sql_query('SELECT * FROM Address',conn)"
   ]
  },
  {
   "cell_type": "code",
   "execution_count": null,
   "metadata": {},
   "outputs": [
    {
     "name": "stdout",
     "output_type": "stream",
     "text": [
      "   CountryRegionCode                 Name\n",
      "0                 AF          Afghanistan\n",
      "1                 AL              Albania\n",
      "2                 DZ              Algeria\n",
      "3                 AS       American Samoa\n",
      "4                 AD              Andorra\n",
      "5                 AO               Angola\n",
      "6                 AI             Anguilla\n",
      "7                 AQ           Antarctica\n",
      "8                 AG  Antigua and Barbuda\n",
      "9                 AR            Argentina\n",
      "10                AM              Armenia\n",
      "11                AW                Aruba\n",
      "12                AU            Australia\n",
      "13                AT              Austria\n",
      "14                AZ           Azerbaijan\n",
      "15                BS         Bahamas, The\n",
      "16                BH              Bahrain\n",
      "17                BD           Bangladesh\n",
      "18                BB             Barbados\n",
      "19                BY              Belarus\n",
      "20                BE              Belgium\n",
      "21                BZ               Belize\n",
      "22                BJ                Benin\n",
      "23                BM              Bermuda\n",
      "24                BT               Bhutan\n",
      "25                BO              Bolivia\n"
     ]
    },
    {
     "name": "stderr",
     "output_type": "stream",
     "text": [
      "C:\\Users\\macie\\AppData\\Local\\Temp\\ipykernel_14432\\2824499782.py:12: UserWarning: pandas only supports SQLAlchemy connectable (engine/connection) or database string URI or sqlite3 DBAPI2 connection. Other DBAPI2 objects are not tested. Please consider using SQLAlchemy.\n",
      "  df = pd.read_sql(query, cnxn)\n"
     ]
    }
   ],
   "source": [
    "# Some other example server values are\n",
    "# server = 'localhost\\sqlexpress' # for a named instance\n",
    "# server = 'myserver,port' # to specify an alternate port\n",
    "import pyodbc\n",
    "import pandas as pd\n",
    "server = 'server' \n",
    "database = 'AdventureWorks2016' \n",
    "username = 'username' \n",
    "password = 'password'  \n",
    "cnxn = pyodbc.connect('DRIVER={SQL Server};SERVER='+server+';DATABASE='+database+';UID='+username+';PWD='+ password)\n",
    "cursor = cnxn.cursor()\n",
    "# select 26 rows from SQL table to insert in dataframe.\n",
    "query = \"SELECT [CountryRegionCode], [Name] FROM Person.CountryRegion;\"\n",
    "df = pd.read_sql(query, cnxn)\n",
    "print(df.head(26))"
   ]
  },
  {
   "cell_type": "code",
   "execution_count": 43,
   "metadata": {},
   "outputs": [
    {
     "data": {
      "text/plain": [
       "<pyodbc.Connection at 0x1b5bb4bace0>"
      ]
     },
     "execution_count": 43,
     "metadata": {},
     "output_type": "execute_result"
    }
   ],
   "source": [
    "cnxn"
   ]
  },
  {
   "cell_type": "code",
   "execution_count": null,
   "metadata": {},
   "outputs": [],
   "source": []
  }
 ],
 "metadata": {
  "kernelspec": {
   "display_name": "base",
   "language": "python",
   "name": "python3"
  },
  "language_info": {
   "codemirror_mode": {
    "name": "ipython",
    "version": 3
   },
   "file_extension": ".py",
   "mimetype": "text/x-python",
   "name": "python",
   "nbconvert_exporter": "python",
   "pygments_lexer": "ipython3",
   "version": "3.10.9"
  }
 },
 "nbformat": 4,
 "nbformat_minor": 2
}
